{
  "cells": [
    {
      "cell_type": "markdown",
      "metadata": {},
      "source": [
        "\n# Default Action and State nodes\n\nA simple example using the :class:`~metaprompting.DefaultAction` and :class:`~metaprompting.DefaultState`\nclasses.\n"
      ]
    },
    {
      "cell_type": "markdown",
      "metadata": {},
      "source": [
        "## Verbose Nodes\n\n"
      ]
    },
    {
      "cell_type": "markdown",
      "metadata": {},
      "source": [
        "First, we define derived classes that print nicely and make the dynamic calls visible\n\n"
      ]
    },
    {
      "cell_type": "code",
      "execution_count": null,
      "metadata": {
        "collapsed": false
      },
      "outputs": [],
      "source": [
        "from metaprompting import State, Action, Graph, connect\n\nclass VerboseAction(Action):\n\n    def __repr__(self):\n        return f\"Action({id(self)})\"\n\n    def input_trigger(self, input):\n        print(f\"{self} was triggered by {input}\")\n        if super().input_trigger(input):\n            print(f\"{self} was executed\")\n        else:\n            print(f\"{self} was NOT executed\")\n\n    def execute(self):\n        print(f\"executing {self}\")\n        return super().execute()\n\nclass VerboseState(State):\n\n    def __repr__(self):\n        return f\"State({id(self)})\"\n\n    def update(self, text, *args, **kwargs):\n        print(f\"updating {self}\")\n        super().update(text)"
      ]
    },
    {
      "cell_type": "markdown",
      "metadata": {},
      "source": [
        "## Basic Manual Setup\n\n"
      ]
    },
    {
      "cell_type": "markdown",
      "metadata": {},
      "source": [
        "We can manually create a graph of connected state and action nodes using basic operations.\n\nFor this, we create the state nodes, create the action nodes, and connect them (note that the order matters)\n\n"
      ]
    },
    {
      "cell_type": "code",
      "execution_count": null,
      "metadata": {
        "collapsed": false
      },
      "outputs": [],
      "source": [
        "root_1 = VerboseState()\nroot_2 = VerboseState()\nroot_3 = VerboseState()\nleaf_1 = VerboseState()\nleaf_2 = VerboseState()\n\naction_1 = VerboseAction()\naction_2 = VerboseAction()\n\nconnect([root_1, root_2, root_3], action_1)\nconnect([root_3, root_2, root_1], action_2)\nconnect(action_1, leaf_1)\nconnect(action_2, leaf_2)"
      ]
    },
    {
      "cell_type": "markdown",
      "metadata": {},
      "source": [
        "Updating all root state nodes triggers a cascade of executions and updates (execution of an action only happens\nafter all inputs were updated)\n\n"
      ]
    },
    {
      "cell_type": "code",
      "execution_count": null,
      "metadata": {
        "collapsed": false
      },
      "outputs": [],
      "source": [
        "root_1.update(\"smoke\")\nroot_2.update(\" and \")\nroot_3.update(\"mirrors\")"
      ]
    },
    {
      "cell_type": "markdown",
      "metadata": {},
      "source": [
        "Note how the different input order leads to different values in the two leaf nodes\n\n"
      ]
    },
    {
      "cell_type": "code",
      "execution_count": null,
      "metadata": {
        "collapsed": false
      },
      "outputs": [],
      "source": [
        "print(leaf_1.value)\nprint(leaf_2.value)"
      ]
    },
    {
      "cell_type": "markdown",
      "metadata": {},
      "source": [
        "## Graph Objects\n\nThe :class:`~metaprompting.Graph` class holds all nodes and provides some convenience functions for working\nwith graphs.\n\n"
      ]
    },
    {
      "cell_type": "code",
      "execution_count": null,
      "metadata": {
        "collapsed": false
      },
      "outputs": [],
      "source": [
        "graph = Graph()\n\n(root_1_, root_2_, root_3_,\n leaf_1_, leaf_2_) = graph.add_states([VerboseState(), VerboseState(), VerboseState(),\n                                       VerboseState(), VerboseState()])\n\ngraph.connect_action([root_1_, root_2_, root_3_], VerboseAction(), leaf_1_, add=True)\ngraph.connect_action([root_3_, root_2_, root_1_], VerboseAction(), leaf_2_, add=True)\n\nprint(list(graph.states))\nprint(list(graph.actions))\n\nroot_1.update(\"smoke\")\nroot_2.update(\" and \")\nroot_3.update(\"mirrors\")\n\nprint(leaf_1.value)\nprint(leaf_2.value)"
      ]
    }
  ],
  "metadata": {
    "kernelspec": {
      "display_name": "Python 3",
      "language": "python",
      "name": "python3"
    },
    "language_info": {
      "codemirror_mode": {
        "name": "ipython",
        "version": 3
      },
      "file_extension": ".py",
      "mimetype": "text/x-python",
      "name": "python",
      "nbconvert_exporter": "python",
      "pygments_lexer": "ipython3",
      "version": "3.10.12"
    }
  },
  "nbformat": 4,
  "nbformat_minor": 0
}