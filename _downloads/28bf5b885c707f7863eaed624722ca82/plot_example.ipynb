{
  "cells": [
    {
      "cell_type": "markdown",
      "metadata": {},
      "source": [
        "\n# Default Action and State nodes\n\nA simple example using the :class:`~metaprompting.base.DefaultAction` and :class:`~metaprompting.base.DefaultState`\nclasses.\n"
      ]
    },
    {
      "cell_type": "markdown",
      "metadata": {},
      "source": [
        "Define derived classes to make the call dynamics visible\n\n"
      ]
    },
    {
      "cell_type": "code",
      "execution_count": null,
      "metadata": {
        "collapsed": false
      },
      "outputs": [],
      "source": [
        "from metaprompting.base import DefaultAction, DefaultState\n\n\nclass VerboseAction(DefaultAction):\n\n    def input_trigger(self, input):\n        print(f\"{self} was triggered by {input}\")\n        super().input_trigger(input)\n\n    def execute(self, *args, **kwargs):\n        print(f\"executing {self}\")\n        super().execute(*args, **kwargs)\n\n\nclass VerboseState(DefaultState):\n\n    def update(self, text):\n        print(f\"updating {self}\")\n        super().update(text)"
      ]
    },
    {
      "cell_type": "markdown",
      "metadata": {},
      "source": [
        "Create state nodes\n\n"
      ]
    },
    {
      "cell_type": "code",
      "execution_count": null,
      "metadata": {
        "collapsed": false
      },
      "outputs": [],
      "source": [
        "root_1 = VerboseState()\nroot_2 = VerboseState()\nroot_3 = VerboseState()\nleaf_1 = VerboseState()\nleaf_2 = VerboseState()"
      ]
    },
    {
      "cell_type": "markdown",
      "metadata": {},
      "source": [
        "Create action nodes, which auto-connects states\n\n"
      ]
    },
    {
      "cell_type": "code",
      "execution_count": null,
      "metadata": {
        "collapsed": false
      },
      "outputs": [],
      "source": [
        "action1 = VerboseAction(input_states=[root_1, root_2, root_3], output_state=leaf_1)\naction2 = VerboseAction(input_states=[root_3, root_2, root_1], output_state=leaf_2)"
      ]
    },
    {
      "cell_type": "markdown",
      "metadata": {},
      "source": [
        "Update root state nodes, which triggers a cascade to leaf nodes\n\n"
      ]
    },
    {
      "cell_type": "code",
      "execution_count": null,
      "metadata": {
        "collapsed": false
      },
      "outputs": [],
      "source": [
        "root_1.update(\"smoke\")\nroot_2.update(\" and \")\nroot_3.update(\"mirrors\")"
      ]
    },
    {
      "cell_type": "markdown",
      "metadata": {},
      "source": [
        "Print output of leaf nodes\n\n"
      ]
    },
    {
      "cell_type": "code",
      "execution_count": null,
      "metadata": {
        "collapsed": false
      },
      "outputs": [],
      "source": [
        "print(leaf_1.value)\nprint(leaf_2.value)"
      ]
    }
  ],
  "metadata": {
    "kernelspec": {
      "display_name": "Python 3",
      "language": "python",
      "name": "python3"
    },
    "language_info": {
      "codemirror_mode": {
        "name": "ipython",
        "version": 3
      },
      "file_extension": ".py",
      "mimetype": "text/x-python",
      "name": "python",
      "nbconvert_exporter": "python",
      "pygments_lexer": "ipython3",
      "version": "3.10.12"
    }
  },
  "nbformat": 4,
  "nbformat_minor": 0
}